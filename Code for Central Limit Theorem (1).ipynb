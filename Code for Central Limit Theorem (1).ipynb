{
 "cells": [
  {
   "cell_type": "code",
   "execution_count": 3,
   "metadata": {},
   "outputs": [
    {
     "name": "stdout",
     "output_type": "stream",
     "text": [
      "beta1 is 0.002327341202309956 and beta2 is 1.7869562109667525\n",
      "ur pearson_comparision_factor is -2.433069601673425\n",
      "\n",
      "\n",
      " ur mean_range is :\n",
      "\n",
      "\n",
      "(1.87188, 2.04576)\n",
      "\n",
      "\n",
      " ur variance range is :\n",
      "\n",
      "\n",
      "(0.78055, 1.63112)\n"
     ]
    }
   ],
   "source": [
    "from scipy.stats import skew\n",
    "from scipy.stats import kurtosis\n",
    "x=[3.18968,0.88383,3.45613,3.62801,3.1681,3.64051,1.07486,2.92634,0.846419,3.51561,2.56655,2.17396,0.104842,3.02572,\n",
    "3.40802,2.22949,3.69965,2.30124,1.23511,0.793247,1.08347,1.81758,1.49518,3.11928,3.02444,2.27307,0.632819,\n",
    "1.03353,1.4222,0.331435,2.72048,2.21772,3.00666,3.20114,0.508634,1.07854,2.32972,1.29802,2.01951,1.19254,3.12294,\n",
    "2.57791,0.360444,0.978635,1.85898,1.51443,1.63209,3.00226,1.96844,2.20284,0.809785,2.56051,0.770789,1.56505,1.11234,\n",
    "3.7106,3.22846,1.84111,0.375589,0.876453,3.69674,1.79492,0.206408,2.74862,3.76073,3.66948,2.25111,1.05988,0.619046,\n",
    "0.975923,0.916921,1.68599,2.40059,1.62235,1.60405,1.39259,0.852646,1.1375,1.85588,3.70874,0.512957,2.93389,3.25554,2.33455,\n",
    "0.689472,2.41885,2.89956,1.19444,2.28641,2.96058,1.08902,1.57758,1.94439,2.79652,3.5372,0.43321,2.99224,2.2129,3.11564,0.290103]\n",
    "          \n",
    "import statistics\n",
    "std_dev_main=statistics.stdev(x)\n",
    "mean_main=statistics.mean(x)\n",
    "# print(std_dev_main*std_dev_main,mean_main)\n",
    "from scipy.stats.distributions import chi2\n",
    "from scipy import stats\n",
    "\n",
    "\n",
    "\n",
    "B1=(stats.moment(x,moment=3))**2/(stats.moment(x,moment=2))**3\n",
    "B2=(stats.moment(x,moment=4))/(stats.moment(x,moment=2))**2\n",
    "print(\"beta1 is {} and beta2 is {}\".format(B1,B2))\n",
    "\n",
    "\n",
    "\n",
    "Firstone=(2*B2)-(3*B1)-6\n",
    "print(\"ur pearson_comparision_factor is {}\".format(Firstone))\n",
    "print(\"\\n\")\n",
    "\n",
    "\n",
    "sub_set=[]\n",
    "with open('ee17b125_randomnumbers.txt','r') as ch19b012:\n",
    "    for line in ch19b012:\n",
    "        sum=0\n",
    "        a=list(map(int,line.split()))\n",
    "        for i in range(10):\n",
    "            sum=sum+x[a[i+1]]\n",
    "        sub_set.append(sum/10**0.5)\n",
    "    \n",
    "std_dev=statistics.stdev(sub_set)\n",
    "mean=statistics.mean(sub_set)\n",
    "n=100\n",
    "mean_range_low=((-2.6264*(std_dev/(n)**0.5))+mean)/(10**0.5)\n",
    "mean_range_high=((2.6264*(std_dev/(n)**0.5))+mean)/(10**0.5)\n",
    "mean_range=(round(mean_range_low,5),round(mean_range_high,5))\n",
    "print(\" ur mean_range is :\")\n",
    "print(\"\\n\")\n",
    "print(mean_range)\n",
    "print(\"\\n\")\n",
    "n=100\n",
    "variance_low=(n-1)*((std_dev)**2)/138.9868\n",
    "variance_high=(n-1)*((std_dev)**2)/66.5101\n",
    "variance_range=(round(variance_low,5),round(variance_high,5))\n",
    "print(\" ur variance range is :\")\n",
    "print(\"\\n\")\n",
    "print(variance_range)"
   ]
  },
  {
   "cell_type": "code",
   "execution_count": 4,
   "metadata": {},
   "outputs": [
    {
     "data": {
      "text/plain": [
       "100"
      ]
     },
     "execution_count": 4,
     "metadata": {},
     "output_type": "execute_result"
    }
   ],
   "source": [
    "len(x)\n"
   ]
  },
  {
   "cell_type": "code",
   "execution_count": 5,
   "metadata": {},
   "outputs": [
    {
     "data": {
      "text/plain": [
       "100"
      ]
     },
     "execution_count": 5,
     "metadata": {},
     "output_type": "execute_result"
    }
   ],
   "source": [
    "len(sub_set)"
   ]
  },
  {
   "cell_type": "code",
   "execution_count": 3,
   "metadata": {},
   "outputs": [
    {
     "data": {
      "text/plain": [
       "100"
      ]
     },
     "execution_count": 3,
     "metadata": {},
     "output_type": "execute_result"
    }
   ],
   "source": [
    "len(x)\n"
   ]
  },
  {
   "cell_type": "code",
   "execution_count": null,
   "metadata": {},
   "outputs": [],
   "source": []
  }
 ],
 "metadata": {
  "kernelspec": {
   "display_name": "Python 3",
   "language": "python",
   "name": "python3"
  },
  "language_info": {
   "codemirror_mode": {
    "name": "ipython",
    "version": 3
   },
   "file_extension": ".py",
   "mimetype": "text/x-python",
   "name": "python",
   "nbconvert_exporter": "python",
   "pygments_lexer": "ipython3",
   "version": "3.8.5"
  }
 },
 "nbformat": 4,
 "nbformat_minor": 4
}
